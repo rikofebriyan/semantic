{
 "cells": [
  {
   "cell_type": "code",
   "execution_count": 2,
   "metadata": {},
   "outputs": [
    {
     "name": "stderr",
     "output_type": "stream",
     "text": [
      "http://example.org/person/Donald_Sutherland_as_Jerry_O`Neill does not look like a valid URI, trying to serialize this will break.\n",
      "http://example.org/person/Eddie_Murphy_as_Sherman_Klump_|_Buddy_Love does not look like a valid URI, trying to serialize this will break.\n",
      "http://example.org/person/Elliot_Levey_as_TV_Director< does not look like a valid URI, trying to serialize this will break.\n",
      "http://example.org/person/Willeke_van_Ammelrooy_as_Kate`s_Mother does not look like a valid URI, trying to serialize this will break.\n",
      "http://example.org/person/Courtney_J._Clark_as_Logans`s_Sister does not look like a valid URI, trying to serialize this will break.\n",
      "http://example.org/person/Aaliyah_as_Trish_O`Day does not look like a valid URI, trying to serialize this will break.\n",
      "http://example.org/person/Delroy_Lindo_as_Isaak_O`Day does not look like a valid URI, trying to serialize this will break.\n",
      "http://example.org/person/D.B._Woodside_as_Colin_O`Day does not look like a valid URI, trying to serialize this will break.\n",
      "http://example.org/person/Henry_O_as_Ch`u_Sing does not look like a valid URI, trying to serialize this will break.\n",
      "http://example.org/producer/New_Line_Cinema,_Newman/Tooley_Films,_Joseph_Nittolo_Entertainment,_\"DIA\"_Productions_GmbH_&_Co._KG does not look like a valid URI, trying to serialize this will break.\n",
      "http://example.org/person/Eddie_Murphy_as_Maximillian_|_Pauly_|_Guido does not look like a valid URI, trying to serialize this will break.\n",
      "http://example.org/person/Brendan_Fletcher_as_Johnny_D`Franco does not look like a valid URI, trying to serialize this will break.\n",
      "http://example.org/person/Ian_Hart_as_Joe_O`Reilly does not look like a valid URI, trying to serialize this will break.\n",
      "http://example.org/person/Val_Kilmer_as_Tom_Van_Allen_|_Danny_Parker does not look like a valid URI, trying to serialize this will break.\n",
      "http://example.org/person/Éva_Igó_as_Lina`s_Mutter does not look like a valid URI, trying to serialize this will break.\n",
      "http://example.org/person/István_Bálint_as_Linas`s_Vater does not look like a valid URI, trying to serialize this will break.\n",
      "http://example.org/person/Eddie_Murphy_as_Kit_Ramsey_|_Jeffernson_'Jiff'_Ramsey does not look like a valid URI, trying to serialize this will break.\n"
     ]
    },
    {
     "ename": "Exception",
     "evalue": "\"http://example.org/person/Brendan_Fletcher_as_Johnny_D`Franco\" does not look like a valid URI, I cannot serialize this as N3/Turtle. Perhaps you wanted to urlencode it?",
     "output_type": "error",
     "traceback": [
      "\u001b[1;31m---------------------------------------------------------------------------\u001b[0m",
      "\u001b[1;31mException\u001b[0m                                 Traceback (most recent call last)",
      "Cell \u001b[1;32mIn[2], line 57\u001b[0m\n\u001b[0;32m     54\u001b[0m             g\u001b[38;5;241m.\u001b[39madd((cast_uri, SCHEMA\u001b[38;5;241m.\u001b[39mname, Literal(member\u001b[38;5;241m.\u001b[39mstrip())))\n\u001b[0;32m     56\u001b[0m \u001b[38;5;66;03m# Save RDF to file\u001b[39;00m\n\u001b[1;32m---> 57\u001b[0m \u001b[43mg\u001b[49m\u001b[38;5;241;43m.\u001b[39;49m\u001b[43mserialize\u001b[49m\u001b[43m(\u001b[49m\u001b[43mdestination\u001b[49m\u001b[38;5;241;43m=\u001b[39;49m\u001b[43moutput_file\u001b[49m\u001b[43m,\u001b[49m\u001b[43m \u001b[49m\u001b[38;5;28;43mformat\u001b[39;49m\u001b[38;5;241;43m=\u001b[39;49m\u001b[38;5;124;43m'\u001b[39;49m\u001b[38;5;124;43mturtle\u001b[39;49m\u001b[38;5;124;43m'\u001b[39;49m\u001b[43m)\u001b[49m\n\u001b[0;32m     59\u001b[0m \u001b[38;5;28mprint\u001b[39m(\u001b[38;5;124mf\u001b[39m\u001b[38;5;124m\"\u001b[39m\u001b[38;5;124mRDF data has been saved to \u001b[39m\u001b[38;5;132;01m{\u001b[39;00moutput_file\u001b[38;5;132;01m}\u001b[39;00m\u001b[38;5;124m\"\u001b[39m)\n",
      "File \u001b[1;32mc:\\Python311\\Lib\\site-packages\\rdflib\\graph.py:1357\u001b[0m, in \u001b[0;36mGraph.serialize\u001b[1;34m(self, destination, format, base, encoding, **args)\u001b[0m\n\u001b[0;32m   1355\u001b[0m             os_path \u001b[38;5;241m=\u001b[39m location\n\u001b[0;32m   1356\u001b[0m     \u001b[38;5;28;01mwith\u001b[39;00m \u001b[38;5;28mopen\u001b[39m(os_path, \u001b[38;5;124m\"\u001b[39m\u001b[38;5;124mwb\u001b[39m\u001b[38;5;124m\"\u001b[39m) \u001b[38;5;28;01mas\u001b[39;00m stream:\n\u001b[1;32m-> 1357\u001b[0m         \u001b[43mserializer\u001b[49m\u001b[38;5;241;43m.\u001b[39;49m\u001b[43mserialize\u001b[49m\u001b[43m(\u001b[49m\u001b[43mstream\u001b[49m\u001b[43m,\u001b[49m\u001b[43m \u001b[49m\u001b[43mencoding\u001b[49m\u001b[38;5;241;43m=\u001b[39;49m\u001b[43mencoding\u001b[49m\u001b[43m,\u001b[49m\u001b[43m \u001b[49m\u001b[38;5;241;43m*\u001b[39;49m\u001b[38;5;241;43m*\u001b[39;49m\u001b[43margs\u001b[49m\u001b[43m)\u001b[49m\n\u001b[0;32m   1358\u001b[0m \u001b[38;5;28;01mreturn\u001b[39;00m \u001b[38;5;28mself\u001b[39m\n",
      "File \u001b[1;32mc:\\Python311\\Lib\\site-packages\\rdflib\\plugins\\serializers\\turtle.py:255\u001b[0m, in \u001b[0;36mTurtleSerializer.serialize\u001b[1;34m(self, stream, base, encoding, spacious, **args)\u001b[0m\n\u001b[0;32m    253\u001b[0m     \u001b[38;5;28;01mif\u001b[39;00m firstTime:\n\u001b[0;32m    254\u001b[0m         firstTime \u001b[38;5;241m=\u001b[39m \u001b[38;5;28;01mFalse\u001b[39;00m\n\u001b[1;32m--> 255\u001b[0m     \u001b[38;5;28;01mif\u001b[39;00m \u001b[38;5;28;43mself\u001b[39;49m\u001b[38;5;241;43m.\u001b[39;49m\u001b[43mstatement\u001b[49m\u001b[43m(\u001b[49m\u001b[43msubject\u001b[49m\u001b[43m)\u001b[49m \u001b[38;5;129;01mand\u001b[39;00m \u001b[38;5;129;01mnot\u001b[39;00m firstTime:\n\u001b[0;32m    256\u001b[0m         \u001b[38;5;28mself\u001b[39m\u001b[38;5;241m.\u001b[39mwrite(\u001b[38;5;124m\"\u001b[39m\u001b[38;5;130;01m\\n\u001b[39;00m\u001b[38;5;124m\"\u001b[39m)\n\u001b[0;32m    258\u001b[0m \u001b[38;5;28mself\u001b[39m\u001b[38;5;241m.\u001b[39mendDocument()\n",
      "File \u001b[1;32mc:\\Python311\\Lib\\site-packages\\rdflib\\plugins\\serializers\\turtle.py:325\u001b[0m, in \u001b[0;36mTurtleSerializer.statement\u001b[1;34m(self, subject)\u001b[0m\n\u001b[0;32m    323\u001b[0m \u001b[38;5;28;01mdef\u001b[39;00m \u001b[38;5;21mstatement\u001b[39m(\u001b[38;5;28mself\u001b[39m, subject: _SubjectType) \u001b[38;5;241m-\u001b[39m\u001b[38;5;241m>\u001b[39m \u001b[38;5;28mbool\u001b[39m:\n\u001b[0;32m    324\u001b[0m     \u001b[38;5;28mself\u001b[39m\u001b[38;5;241m.\u001b[39msubjectDone(subject)\n\u001b[1;32m--> 325\u001b[0m     \u001b[38;5;28;01mreturn\u001b[39;00m \u001b[38;5;28mself\u001b[39m\u001b[38;5;241m.\u001b[39ms_squared(subject) \u001b[38;5;129;01mor\u001b[39;00m \u001b[38;5;28;43mself\u001b[39;49m\u001b[38;5;241;43m.\u001b[39;49m\u001b[43ms_default\u001b[49m\u001b[43m(\u001b[49m\u001b[43msubject\u001b[49m\u001b[43m)\u001b[49m\n",
      "File \u001b[1;32mc:\\Python311\\Lib\\site-packages\\rdflib\\plugins\\serializers\\turtle.py:330\u001b[0m, in \u001b[0;36mTurtleSerializer.s_default\u001b[1;34m(self, subject)\u001b[0m\n\u001b[0;32m    328\u001b[0m \u001b[38;5;28mself\u001b[39m\u001b[38;5;241m.\u001b[39mwrite(\u001b[38;5;124m\"\u001b[39m\u001b[38;5;130;01m\\n\u001b[39;00m\u001b[38;5;124m\"\u001b[39m \u001b[38;5;241m+\u001b[39m \u001b[38;5;28mself\u001b[39m\u001b[38;5;241m.\u001b[39mindent())\n\u001b[0;32m    329\u001b[0m \u001b[38;5;28mself\u001b[39m\u001b[38;5;241m.\u001b[39mpath(subject, SUBJECT)\n\u001b[1;32m--> 330\u001b[0m \u001b[38;5;28;43mself\u001b[39;49m\u001b[38;5;241;43m.\u001b[39;49m\u001b[43mpredicateList\u001b[49m\u001b[43m(\u001b[49m\u001b[43msubject\u001b[49m\u001b[43m)\u001b[49m\n\u001b[0;32m    331\u001b[0m \u001b[38;5;28mself\u001b[39m\u001b[38;5;241m.\u001b[39mwrite(\u001b[38;5;124m\"\u001b[39m\u001b[38;5;124m .\u001b[39m\u001b[38;5;124m\"\u001b[39m)\n\u001b[0;32m    332\u001b[0m \u001b[38;5;28;01mreturn\u001b[39;00m \u001b[38;5;28;01mTrue\u001b[39;00m\n",
      "File \u001b[1;32mc:\\Python311\\Lib\\site-packages\\rdflib\\plugins\\serializers\\turtle.py:438\u001b[0m, in \u001b[0;36mTurtleSerializer.predicateList\u001b[1;34m(self, subject, newline)\u001b[0m\n\u001b[0;32m    436\u001b[0m \u001b[38;5;28mself\u001b[39m\u001b[38;5;241m.\u001b[39mwrite(\u001b[38;5;124m\"\u001b[39m\u001b[38;5;124m ;\u001b[39m\u001b[38;5;130;01m\\n\u001b[39;00m\u001b[38;5;124m\"\u001b[39m \u001b[38;5;241m+\u001b[39m \u001b[38;5;28mself\u001b[39m\u001b[38;5;241m.\u001b[39mindent(\u001b[38;5;241m1\u001b[39m))\n\u001b[0;32m    437\u001b[0m \u001b[38;5;28mself\u001b[39m\u001b[38;5;241m.\u001b[39mverb(predicate, newline\u001b[38;5;241m=\u001b[39m\u001b[38;5;28;01mTrue\u001b[39;00m)\n\u001b[1;32m--> 438\u001b[0m \u001b[38;5;28;43mself\u001b[39;49m\u001b[38;5;241;43m.\u001b[39;49m\u001b[43mobjectList\u001b[49m\u001b[43m(\u001b[49m\u001b[43mproperties\u001b[49m\u001b[43m[\u001b[49m\u001b[43mpredicate\u001b[49m\u001b[43m]\u001b[49m\u001b[43m)\u001b[49m\n",
      "File \u001b[1;32mc:\\Python311\\Lib\\site-packages\\rdflib\\plugins\\serializers\\turtle.py:452\u001b[0m, in \u001b[0;36mTurtleSerializer.objectList\u001b[1;34m(self, objects)\u001b[0m\n\u001b[0;32m    450\u001b[0m \u001b[38;5;28;01mfor\u001b[39;00m obj \u001b[38;5;129;01min\u001b[39;00m objects[\u001b[38;5;241m1\u001b[39m:]:\n\u001b[0;32m    451\u001b[0m     \u001b[38;5;28mself\u001b[39m\u001b[38;5;241m.\u001b[39mwrite(\u001b[38;5;124m\"\u001b[39m\u001b[38;5;124m,\u001b[39m\u001b[38;5;130;01m\\n\u001b[39;00m\u001b[38;5;124m\"\u001b[39m \u001b[38;5;241m+\u001b[39m \u001b[38;5;28mself\u001b[39m\u001b[38;5;241m.\u001b[39mindent(\u001b[38;5;241m1\u001b[39m))\n\u001b[1;32m--> 452\u001b[0m     \u001b[38;5;28;43mself\u001b[39;49m\u001b[38;5;241;43m.\u001b[39;49m\u001b[43mpath\u001b[49m\u001b[43m(\u001b[49m\u001b[43mobj\u001b[49m\u001b[43m,\u001b[49m\u001b[43m \u001b[49m\u001b[43mOBJECT\u001b[49m\u001b[43m,\u001b[49m\u001b[43m \u001b[49m\u001b[43mnewline\u001b[49m\u001b[38;5;241;43m=\u001b[39;49m\u001b[38;5;28;43;01mTrue\u001b[39;49;00m\u001b[43m)\u001b[49m\n\u001b[0;32m    453\u001b[0m \u001b[38;5;28mself\u001b[39m\u001b[38;5;241m.\u001b[39mdepth \u001b[38;5;241m-\u001b[39m\u001b[38;5;241m=\u001b[39m depthmod\n",
      "File \u001b[1;32mc:\\Python311\\Lib\\site-packages\\rdflib\\plugins\\serializers\\turtle.py:345\u001b[0m, in \u001b[0;36mTurtleSerializer.path\u001b[1;34m(self, node, position, newline)\u001b[0m\n\u001b[0;32m    342\u001b[0m \u001b[38;5;28;01mdef\u001b[39;00m \u001b[38;5;21mpath\u001b[39m(\u001b[38;5;28mself\u001b[39m, node: Node, position: \u001b[38;5;28mint\u001b[39m, newline: \u001b[38;5;28mbool\u001b[39m \u001b[38;5;241m=\u001b[39m \u001b[38;5;28;01mFalse\u001b[39;00m) \u001b[38;5;241m-\u001b[39m\u001b[38;5;241m>\u001b[39m \u001b[38;5;28;01mNone\u001b[39;00m:\n\u001b[0;32m    343\u001b[0m     \u001b[38;5;28;01mif\u001b[39;00m \u001b[38;5;129;01mnot\u001b[39;00m (\n\u001b[0;32m    344\u001b[0m         \u001b[38;5;28mself\u001b[39m\u001b[38;5;241m.\u001b[39mp_squared(node, position, newline)\n\u001b[1;32m--> 345\u001b[0m         \u001b[38;5;129;01mor\u001b[39;00m \u001b[38;5;28;43mself\u001b[39;49m\u001b[38;5;241;43m.\u001b[39;49m\u001b[43mp_default\u001b[49m\u001b[43m(\u001b[49m\u001b[43mnode\u001b[49m\u001b[43m,\u001b[49m\u001b[43m \u001b[49m\u001b[43mposition\u001b[49m\u001b[43m,\u001b[49m\u001b[43m \u001b[49m\u001b[43mnewline\u001b[49m\u001b[43m)\u001b[49m\n\u001b[0;32m    346\u001b[0m     ):\n\u001b[0;32m    347\u001b[0m         \u001b[38;5;28;01mraise\u001b[39;00m Error(\u001b[38;5;124m\"\u001b[39m\u001b[38;5;124mCannot serialize node \u001b[39m\u001b[38;5;124m'\u001b[39m\u001b[38;5;132;01m%s\u001b[39;00m\u001b[38;5;124m'\u001b[39m\u001b[38;5;124m\"\u001b[39m \u001b[38;5;241m%\u001b[39m (node,))\n",
      "File \u001b[1;32mc:\\Python311\\Lib\\site-packages\\rdflib\\plugins\\serializers\\turtle.py:352\u001b[0m, in \u001b[0;36mTurtleSerializer.p_default\u001b[1;34m(self, node, position, newline)\u001b[0m\n\u001b[0;32m    350\u001b[0m \u001b[38;5;28;01mif\u001b[39;00m position \u001b[38;5;241m!=\u001b[39m SUBJECT \u001b[38;5;129;01mand\u001b[39;00m \u001b[38;5;129;01mnot\u001b[39;00m newline:\n\u001b[0;32m    351\u001b[0m     \u001b[38;5;28mself\u001b[39m\u001b[38;5;241m.\u001b[39mwrite(\u001b[38;5;124m\"\u001b[39m\u001b[38;5;124m \u001b[39m\u001b[38;5;124m\"\u001b[39m)\n\u001b[1;32m--> 352\u001b[0m \u001b[38;5;28mself\u001b[39m\u001b[38;5;241m.\u001b[39mwrite(\u001b[38;5;28;43mself\u001b[39;49m\u001b[38;5;241;43m.\u001b[39;49m\u001b[43mlabel\u001b[49m\u001b[43m(\u001b[49m\u001b[43mnode\u001b[49m\u001b[43m,\u001b[49m\u001b[43m \u001b[49m\u001b[43mposition\u001b[49m\u001b[43m)\u001b[49m)\n\u001b[0;32m    353\u001b[0m \u001b[38;5;28;01mreturn\u001b[39;00m \u001b[38;5;28;01mTrue\u001b[39;00m\n",
      "File \u001b[1;32mc:\\Python311\\Lib\\site-packages\\rdflib\\plugins\\serializers\\turtle.py:368\u001b[0m, in \u001b[0;36mTurtleSerializer.label\u001b[1;34m(self, node, position)\u001b[0m\n\u001b[0;32m    365\u001b[0m \u001b[38;5;28;01melse\u001b[39;00m:\n\u001b[0;32m    366\u001b[0m     node \u001b[38;5;241m=\u001b[39m \u001b[38;5;28mself\u001b[39m\u001b[38;5;241m.\u001b[39mrelativize(node)  \u001b[38;5;66;03m# type: ignore[type-var]\u001b[39;00m\n\u001b[1;32m--> 368\u001b[0m     \u001b[38;5;28;01mreturn\u001b[39;00m \u001b[38;5;28mself\u001b[39m\u001b[38;5;241m.\u001b[39mgetQName(node, position \u001b[38;5;241m==\u001b[39m VERB) \u001b[38;5;129;01mor\u001b[39;00m \u001b[43mnode\u001b[49m\u001b[38;5;241;43m.\u001b[39;49m\u001b[43mn3\u001b[49m\u001b[43m(\u001b[49m\u001b[43m)\u001b[49m\n",
      "File \u001b[1;32mc:\\Python311\\Lib\\site-packages\\rdflib\\term.py:325\u001b[0m, in \u001b[0;36mURIRef.n3\u001b[1;34m(self, namespace_manager)\u001b[0m\n\u001b[0;32m    315\u001b[0m \u001b[38;5;250m\u001b[39m\u001b[38;5;124;03m\"\"\"\u001b[39;00m\n\u001b[0;32m    316\u001b[0m \u001b[38;5;124;03mThis will do a limited check for valid URIs,\u001b[39;00m\n\u001b[0;32m    317\u001b[0m \u001b[38;5;124;03messentially just making sure that the string includes no illegal\u001b[39;00m\n\u001b[1;32m   (...)\u001b[0m\n\u001b[0;32m    321\u001b[0m \u001b[38;5;124;03m     a prefixed name\u001b[39;00m\n\u001b[0;32m    322\u001b[0m \u001b[38;5;124;03m\"\"\"\u001b[39;00m\n\u001b[0;32m    324\u001b[0m \u001b[38;5;28;01mif\u001b[39;00m \u001b[38;5;129;01mnot\u001b[39;00m _is_valid_uri(\u001b[38;5;28mself\u001b[39m):\n\u001b[1;32m--> 325\u001b[0m     \u001b[38;5;28;01mraise\u001b[39;00m \u001b[38;5;167;01mException\u001b[39;00m(\n\u001b[0;32m    326\u001b[0m         \u001b[38;5;124mf\u001b[39m\u001b[38;5;124m'\u001b[39m\u001b[38;5;124m\"\u001b[39m\u001b[38;5;132;01m{\u001b[39;00m\u001b[38;5;28mself\u001b[39m\u001b[38;5;132;01m}\u001b[39;00m\u001b[38;5;124m\"\u001b[39m\u001b[38;5;124m does not look like a valid URI, I cannot serialize this as N3/Turtle. Perhaps you wanted to urlencode it?\u001b[39m\u001b[38;5;124m'\u001b[39m\n\u001b[0;32m    327\u001b[0m     )\n\u001b[0;32m    329\u001b[0m \u001b[38;5;28;01mif\u001b[39;00m namespace_manager:\n\u001b[0;32m    330\u001b[0m     \u001b[38;5;28;01mreturn\u001b[39;00m namespace_manager\u001b[38;5;241m.\u001b[39mnormalizeUri(\u001b[38;5;28mself\u001b[39m)\n",
      "\u001b[1;31mException\u001b[0m: \"http://example.org/person/Brendan_Fletcher_as_Johnny_D`Franco\" does not look like a valid URI, I cannot serialize this as N3/Turtle. Perhaps you wanted to urlencode it?"
     ]
    }
   ],
   "source": [
    "import csv\n",
    "from rdflib import Graph, URIRef, Literal, Namespace\n",
    "from rdflib.namespace import RDF, RDFS\n",
    "\n",
    "# Load CSV file\n",
    "csv_file = 'movies.csv'\n",
    "output_file = 'movies.rdf'\n",
    "\n",
    "# Define namespaces\n",
    "SCHEMA = Namespace(\"http://schema.org/\")\n",
    "EX = Namespace(\"http://example.org/\")\n",
    "\n",
    "# Create an RDF graph\n",
    "g = Graph()\n",
    "g.bind(\"schema\", SCHEMA)\n",
    "g.bind(\"ex\", EX)\n",
    "\n",
    "# Read CSV and convert to RDF\n",
    "with open(csv_file, 'r', encoding='utf-8') as f:  # Specify encoding here\n",
    "    reader = csv.DictReader(f)\n",
    "    for row in reader:\n",
    "        # Create a URI for the movie\n",
    "        movie_uri = URIRef(EX + \"movie/\" + row['title'].replace(\" \", \"_\"))\n",
    "        g.add((movie_uri, RDF.type, SCHEMA.Movie))\n",
    "\n",
    "        # Add title\n",
    "        g.add((movie_uri, SCHEMA.name, Literal(row['title'])))\n",
    "\n",
    "        # Add overview\n",
    "        if row['overview']:\n",
    "            g.add((movie_uri, SCHEMA.description, Literal(row['overview'])))\n",
    "\n",
    "        # Add genres (split by commas if multiple)\n",
    "        genres = row['genres'].split(',')\n",
    "        for genre in genres:\n",
    "            genre_uri = URIRef(EX + \"genre/\" + genre.strip().replace(\" \", \"_\"))\n",
    "            g.add((movie_uri, SCHEMA.genre, genre_uri))\n",
    "            g.add((genre_uri, RDF.type, SCHEMA.Genre))\n",
    "            g.add((genre_uri, SCHEMA.name, Literal(genre.strip())))\n",
    "\n",
    "        # Add producer\n",
    "        if row['producer']:\n",
    "            producer_uri = URIRef(EX + \"producer/\" + row['producer'].replace(\" \", \"_\"))\n",
    "            g.add((movie_uri, SCHEMA.producer, producer_uri))\n",
    "            g.add((producer_uri, RDF.type, SCHEMA.Person))\n",
    "            g.add((producer_uri, SCHEMA.name, Literal(row['producer'])))\n",
    "\n",
    "        # Add cast (split by commas if multiple)\n",
    "        cast_members = row['cast'].split(',')\n",
    "        for member in cast_members:\n",
    "            cast_uri = URIRef(EX + \"person/\" + member.strip().replace(\" \", \"_\").replace('\"', \"\"))\n",
    "            g.add((movie_uri, SCHEMA.actor, cast_uri))\n",
    "            g.add((cast_uri, RDF.type, SCHEMA.Person))\n",
    "            g.add((cast_uri, SCHEMA.name, Literal(member.strip())))\n",
    "\n",
    "# Save RDF to file\n",
    "g.serialize(destination=output_file, format='turtle')\n",
    "\n",
    "print(f\"RDF data has been saved to {output_file}\")\n"
   ]
  }
 ],
 "metadata": {
  "kernelspec": {
   "display_name": "Python 3",
   "language": "python",
   "name": "python3"
  },
  "language_info": {
   "codemirror_mode": {
    "name": "ipython",
    "version": 3
   },
   "file_extension": ".py",
   "mimetype": "text/x-python",
   "name": "python",
   "nbconvert_exporter": "python",
   "pygments_lexer": "ipython3",
   "version": "3.11.0"
  }
 },
 "nbformat": 4,
 "nbformat_minor": 2
}
